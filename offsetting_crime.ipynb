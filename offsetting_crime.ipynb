{
 "cells": [
  {
   "cell_type": "code",
   "execution_count": 1,
   "metadata": {
    "collapsed": true
   },
   "outputs": [],
   "source": [
    "import requests"
   ]
  },
  {
   "cell_type": "code",
   "execution_count": 2,
   "metadata": {
    "collapsed": true
   },
   "outputs": [],
   "source": [
    "from StringIO import StringIO"
   ]
  },
  {
   "cell_type": "code",
   "execution_count": 3,
   "metadata": {
    "collapsed": false
   },
   "outputs": [],
   "source": [
    "import pandas as pd"
   ]
  },
  {
   "cell_type": "code",
   "execution_count": 4,
   "metadata": {
    "collapsed": false
   },
   "outputs": [],
   "source": [
    "url_template = 'http://plenar.io/v1/api/detail/?dataset_name=crimes_2001_to_present&obs_date__ge=2015-10-05&obs_date__lt=2015-11-05&offset={}&data_type=csv'\n",
    "def make_url_with_offset(offset_num):\n",
    "    return url_template.format(str(offset_num))"
   ]
  },
  {
   "cell_type": "code",
   "execution_count": 5,
   "metadata": {
    "collapsed": true
   },
   "outputs": [],
   "source": [
    "def make_df_from_offset(offset_num):\n",
    "    resp = requests.get(make_url_with_offset(offset_num))\n",
    "    raw_data = resp.content\n",
    "    df = pd.read_csv(StringIO(raw_data))\n",
    "    return df"
   ]
  },
  {
   "cell_type": "code",
   "execution_count": 15,
   "metadata": {
    "collapsed": false
   },
   "outputs": [
    {
     "name": "stdout",
     "output_type": "stream",
     "text": [
      "1000 more records grabbed from Plenario.\n",
      "0 of the freshly retrieved records were already present in the 1000 other records.\n",
      "1000 more records grabbed from Plenario.\n",
      "0 of the freshly retrieved records were already present in the 2000 other records.\n",
      "1000 more records grabbed from Plenario.\n",
      "0 of the freshly retrieved records were already present in the 3000 other records.\n",
      "1000 more records grabbed from Plenario.\n",
      "0 of the freshly retrieved records were already present in the 4000 other records.\n",
      "1000 more records grabbed from Plenario.\n",
      "0 of the freshly retrieved records were already present in the 5000 other records.\n",
      "1000 more records grabbed from Plenario.\n",
      "0 of the freshly retrieved records were already present in the 6000 other records.\n",
      "1000 more records grabbed from Plenario.\n",
      "0 of the freshly retrieved records were already present in the 7000 other records.\n",
      "1000 more records grabbed from Plenario.\n",
      "0 of the freshly retrieved records were already present in the 8000 other records.\n",
      "1000 more records grabbed from Plenario.\n",
      "0 of the freshly retrieved records were already present in the 9000 other records.\n",
      "1000 more records grabbed from Plenario.\n",
      "0 of the freshly retrieved records were already present in the 10000 other records.\n",
      "1000 more records grabbed from Plenario.\n",
      "0 of the freshly retrieved records were already present in the 11000 other records.\n",
      "1000 more records grabbed from Plenario.\n",
      "0 of the freshly retrieved records were already present in the 12000 other records.\n",
      "1000 more records grabbed from Plenario.\n",
      "0 of the freshly retrieved records were already present in the 13000 other records.\n",
      "1000 more records grabbed from Plenario.\n",
      "0 of the freshly retrieved records were already present in the 14000 other records.\n",
      "1000 more records grabbed from Plenario.\n",
      "0 of the freshly retrieved records were already present in the 15000 other records.\n",
      "1000 more records grabbed from Plenario.\n",
      "0 of the freshly retrieved records were already present in the 16000 other records.\n",
      "1000 more records grabbed from Plenario.\n",
      "0 of the freshly retrieved records were already present in the 17000 other records.\n",
      "1000 more records grabbed from Plenario.\n",
      "0 of the freshly retrieved records were already present in the 18000 other records.\n",
      "1000 more records grabbed from Plenario.\n",
      "0 of the freshly retrieved records were already present in the 19000 other records.\n",
      "1000 more records grabbed from Plenario.\n",
      "0 of the freshly retrieved records were already present in the 20000 other records.\n",
      "1000 more records grabbed from Plenario.\n",
      "0 of the freshly retrieved records were already present in the 21000 other records.\n",
      "1000 more records grabbed from Plenario.\n",
      "0 of the freshly retrieved records were already present in the 22000 other records.\n",
      "1000 more records grabbed from Plenario.\n",
      "0 of the freshly retrieved records were already present in the 23000 other records.\n",
      "1000 more records grabbed from Plenario.\n",
      "0 of the freshly retrieved records were already present in the 24000 other records.\n",
      "644 more records grabbed from Plenario.\n",
      "0 of the freshly retrieved records were already present in the 25000 other records.\n",
      "0 more records grabbed from Plenario.\n",
      "0 of the freshly retrieved records were already present in the 25644 other records.\n"
     ]
    }
   ],
   "source": [
    "all_records_so_far = make_df_from_offset(0)\n",
    "for i in range(1, 27):\n",
    "    next_group = make_df_from_offset(i*1000)\n",
    "    print \"{} more records grabbed from Plenario.\".format(len(next_group))\n",
    "    num_dupes = len(pd.merge(all_records_so_far, next_group, how='inner', on=['crimes_2001_to_present_row_id']))\n",
    "    total_records = len(all_records_so_far)\n",
    "    print \"{} of the freshly retrieved records were already present in the {} other records.\".format(num_dupes, total_records) \n",
    "    all_records_so_far = pd.concat([all_records_so_far, next_group])"
   ]
  },
  {
   "cell_type": "code",
   "execution_count": 22,
   "metadata": {
    "collapsed": false
   },
   "outputs": [
    {
     "data": {
      "text/plain": [
       "False"
      ]
     },
     "execution_count": 22,
     "metadata": {},
     "output_type": "execute_result"
    }
   ],
   "source": [
    "all_records_so_far.duplicated().any()"
   ]
  }
 ],
 "metadata": {
  "kernelspec": {
   "display_name": "Python 2",
   "language": "python",
   "name": "python2"
  },
  "language_info": {
   "codemirror_mode": {
    "name": "ipython",
    "version": 2
   },
   "file_extension": ".py",
   "mimetype": "text/x-python",
   "name": "python",
   "nbconvert_exporter": "python",
   "pygments_lexer": "ipython2",
   "version": "2.7.10"
  }
 },
 "nbformat": 4,
 "nbformat_minor": 0
}
